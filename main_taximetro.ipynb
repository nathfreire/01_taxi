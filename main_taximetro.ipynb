{
 "cells": [
  {
   "cell_type": "markdown",
   "metadata": {},
   "source": [
    "CREACIÓN DE UN TAXÍMETRO"
   ]
  },
  {
   "cell_type": "markdown",
   "metadata": {},
   "source": [
    "CLI de bienvenida"
   ]
  },
  {
   "cell_type": "code",
   "execution_count": 1,
   "metadata": {},
   "outputs": [],
   "source": [
    "''' Bienvenido/a a nuestro servicio contador... blablabla...'''\n",
    "\n",
    "inicio = input(\"Pulse 0 cuando tenga algún cliente\")"
   ]
  },
  {
   "cell_type": "code",
   "execution_count": null,
   "metadata": {},
   "outputs": [],
   "source": [
    "### Comenzar a dar a 0 \n",
    "import datetime\n",
    "\n",
    "class Carrera:\n",
    "    precio_parada = 0.02\n",
    "    precio_movimiento = 0,.05\n",
    "    precio_parada_nocturno = precio_parada * 2\n",
    "    precio_movimiento_nocturno = precio_movimiento * 2\n",
    "\n",
    "    def __init__(self, tiempo, ID):\n",
    "        self._ID = ID\n",
    "        self.tiempo = tiempo\n",
    "   \n",
    "    def inicio():\n",
    "        #establecimiento de valores iniciales\n",
    "        #llamar al metodo parada\n",
    "\n",
    "    def parada():\n",
    "        #estado 0\n",
    "        #En este punto hacer una funcion que comience a contar desde precio/parado y contar el tiempo\n",
    "\n",
    "        #Al cambiar de estado comunica el total del estado anterior\n",
    "\n",
    "    def movimiento():\n",
    "        #estado 1\n",
    "        #Al cambiar de estado comunica el total del estado anterior\n",
    "        #funcion cambie el precio/movimiento reinicia el tiempo calcuta tiempo total con este precio\n",
    "        #posibilidad de volver a def parada\n",
    "\n",
    "    def final():\n",
    "        #estado 3\n",
    "        #calculo total y devuelve mensaje \"total\"\n",
    "        #enviar los datos al guardado\n",
    "        #fin de carrera: volver a inicio\n",
    "\n",
    "    def salir():\n",
    "        #apagado \n",
    "\n",
    "\n"
   ]
  }
 ],
 "metadata": {
  "kernelspec": {
   "display_name": "Python 3",
   "language": "python",
   "name": "python3"
  },
  "language_info": {
   "codemirror_mode": {
    "name": "ipython",
    "version": 3
   },
   "file_extension": ".py",
   "mimetype": "text/x-python",
   "name": "python",
   "nbconvert_exporter": "python",
   "pygments_lexer": "ipython3",
   "version": "3.12.4"
  }
 },
 "nbformat": 4,
 "nbformat_minor": 2
}
